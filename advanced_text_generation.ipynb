{
 "cells": [
  {
   "cell_type": "markdown",
   "id": "d9bf451e",
   "metadata": {},
   "source": [
    "model I/O\n",
    "\n",
    "memory\n",
    "\n",
    "retrieval\n",
    "\n",
    "agents"
   ]
  },
  {
   "cell_type": "markdown",
   "id": "7279341d",
   "metadata": {},
   "source": []
  },
  {
   "cell_type": "code",
   "execution_count": null,
   "id": "929800ac",
   "metadata": {},
   "outputs": [],
   "source": [
    "#loading the model through quantization -- GGUF version\n"
   ]
  }
 ],
 "metadata": {
  "language_info": {
   "name": "python"
  }
 },
 "nbformat": 4,
 "nbformat_minor": 5
}
